{
 "cells": [
  {
   "cell_type": "markdown",
   "metadata": {
    "pycharm": {
     "name": "#%% md\n"
    }
   },
   "source": [
    "# Detekcja krawędzi"
   ]
  },
  {
   "cell_type": "markdown",
   "source": [
    "## Cel ćwiczenia\n",
    "\n",
    "- Zapoznanie z metodami detekcji krawędzi:\n",
    "    - Sobel, Prewitt, Roberts - przypomnienie,\n",
    "    - Laplasjan z Gaussa (LoG – ang. Laplacian of Gaussian),\n",
    "    - Canny.\n",
    "\n",
    "Detekcja krawędzi przez wiele lat była podstawą algorytmów segmentacji.\n",
    "Krawędzie wykrywane są najczęściej z wykorzystaniem pierwszej (gradient) i drugiej (Laplasjan) pochodnej przestrzennej.\n",
    "Wykorzystanie obu metod zaprezentowane zostało w ćwiczeniu *Przetwarzanie wstępne. Filtracja kontekstowa*.\n",
    "\n",
    "W niniejszym ćwiczeniu poznane detektory krawędzi zostaną porównane z bardziej zaawansowanymi: Laplasjan z funkcji Gaussa (LoG), Zero Crossing i Canny."
   ],
   "metadata": {
    "collapsed": false,
    "pycharm": {
     "name": "#%% md\n"
    }
   }
  },
  {
   "cell_type": "markdown",
   "source": [
    "## Laplasjan z Gaussa (LoG)\n",
    "\n",
    "Funkcja Gaussa:<br>\n",
    "\\begin{equation}\n",
    "h(r) = e^{\\frac{-r^2}{2 \\sigma^2}}\n",
    "\\end{equation}<br>\n",
    "gdzie:\n",
    "- $r^2 = x^2 + y^2$\n",
    "- $\\sigma$ to odchylenie standardowe.\n",
    "\n",
    "Działanie filtracji Gaussowskiej zostało przedstawione w ćwiczeniu \"Przetwarzanie wstępne\". W jej wyniku następuje rozmazanie obrazu.\n",
    "Laplasjan tej funkcji dany jest wzorem:\n",
    "\n",
    "\\begin{equation}\n",
    "\\nabla^2 h(r) = \\frac{r^2 - 2\\sigma^2}{\\sigma^4} e^{-\\frac{r^2}{2\\sigma^2}}\n",
    "\\end{equation}\n",
    "\n",
    "Funkcję (z oczywistych powodów) nazywamy Laplasjan z Gaussa (LoG).\n",
    "Ponieważ druga pochodna jest operacją liniową, konwolucja obrazu z $\\nabla^2 h(r)$ daje taki sam efekt jak zastosowanie filtracji Gaussa na obrazie, a następnie obliczenie Laplasjanu z wyniku.\n",
    "Lokalizacja krawędzi polega na znalezieniu miejsca, gdzie po filtracji LoG następuje zmiana znaku.\n",
    "\n",
    "1. Wczytaj obraz *house.png*.\n",
    "2. Wykonaj rozmycie Gaussowskie obrazu wejściowego.\n",
    "W tym celu wykorzysaj funkcję `cv2.GaussianBlur(img, kSize, sigma)`.\n",
    "Pierwszy argument jest obrazem wejśćiowym.\n",
    "Drugi jest rozmiarem filtru (podanym w nawiasach okrągłych, np. *(3, 3)*).\n",
    "Trzecim argumentem jest odchylenie standardowe. Wartość jest dobrana automatycznie, jeśli zosanie podana wartość `0` (będą równe rozmiarowi).\n",
    "3. Oblicz laplasjan obrazu rozmytego.\n",
    "W tym celu wykorzysaj funkcję `cv2.Laplacian(img, ddepth)`.\n",
    "Pierszym argumentem jest obraz wejściowy.\n",
    "Drugim argumentem jest typ danych wejściowych. Użyj `cv2.CV_32F`.\n",
    "4. Wyznacz miejsca zmiany znaku.\n",
    "Zaimplementuj funkcję `crossing(LoG, thr)`:\n",
    "    - Najpierw stwórz tablicę, do której zostanie zapisany wynik.\n",
    "    Jej rozmiar jest taki sam jak przetwarzanego obrazu.\n",
    "    - Następnie wykonaj pętle po obrazie (bez ramki jednopikselowej).\n",
    "    W każdej iteracji stwórz otoczenie o rozmiarze $3 \\times 3$.\n",
    "    Dla otoczenia oblicz wartość maksymalną i minimalną.\n",
    "    - Jeśli wartości te mają przeciwne znaki, to do danego miejsca tablicy przypisz wartość:\n",
    "        - jeśli piksel wejściowy > 0, to dodaj do niego wartość bezwzględną minimum.\n",
    "        - jeśli piksel wejściowy < 0, to do jego wartości bezwzględnej dodaj maksimum.\n",
    "    - Zmień zakres wykonanej tablicy do $<0, 255>$.\n",
    "    - Wykonaj progowanie tablicy. Próg jest argumentem wejściowym.\n",
    "    - Przeskaluj dane binarne do wartości `[0, 255]`.\n",
    "    - Wykonaj konwersję do typu *uint8*.\n",
    "    - Wykonaj rozmycie medianowe wyniku.\n",
    "    Wykorzystaj funkcję `cv2.medianBlur(img, kSize)`.\n",
    "    Pierwszym argumentem jest obraz wejśćiowy, a drugim rozmiar filtra.\n",
    "    - Zwróć wyznaczoną tablicę.\n",
    "5. Wyświetl obraz wynikowy.\n",
    "6. Dobierz parametry (rozmiar filtru Gaussa, odchylenie standardowe, próg binaryzacji) tak, by widoczne były kontury domu, ale nie dachówki."
   ],
   "metadata": {
    "collapsed": false,
    "pycharm": {
     "name": "#%% md\n"
    }
   }
  },
  {
   "cell_type": "code",
   "source": [
    "import cv2\n",
    "from matplotlib import pyplot as plt\n",
    "import numpy as np\n",
    "import math\n",
    "import os\n",
    "\n",
    "if not os.path.exists(\"dom.png\") :\n",
    "    !wget https://raw.githubusercontent.com/vision-agh/poc_sw/master/09_Canny/dom.png --no-check-certificate"
   ],
   "metadata": {
    "collapsed": false,
    "pycharm": {
     "name": "#%% Zadanie 1 - LoG\n"
    }
   },
   "outputs": [],
   "execution_count": null
  },
  {
   "metadata": {},
   "cell_type": "code",
   "source": [
    "def crossing(LoG, thr):\n",
    "    y_size, x_size = LoG.shape\n",
    "    image_out = np.zeros((y_size, x_size))\n",
    "    window_size = 3\n",
    "\n",
    "    for i in range(y_size):\n",
    "        i_min = np.clip(i - window_size // 2, 0, y_size)\n",
    "        i_max = np.clip(i + window_size // 2 + 1, 0, y_size)\n",
    "        for j in range(x_size):\n",
    "            j_min = np.clip(j - window_size // 2, 0, x_size)\n",
    "            j_max = np.clip(j + window_size // 2 + 1, 0, x_size)\n",
    "\n",
    "            window = LoG[i_min:i_max, j_min:j_max]\n",
    "\n",
    "            max_window = window.max()\n",
    "            min_window = window.min()\n",
    "\n",
    "            if min_window * max_window < 0:\n",
    "                if LoG[i, j] > 0:\n",
    "                    image_out[i, j] = LoG[i, j] + np.abs(min_window)\n",
    "                if LoG[i, j] < 0:\n",
    "                    image_out[i, j] = np.abs(LoG[i, j]) + max_window\n",
    "\n",
    "    image_out = cv2.normalize(image_out, None, 0, 255, cv2.NORM_MINMAX)\n",
    "    image_out = image_out > thr\n",
    "    image_out = (image_out * 255).astype(np.uint8)\n",
    "    image_out = cv2.medianBlur(image_out, 5)\n",
    "    return image_out\n",
    "\n",
    "\n",
    "dom = cv2.imread(\"dom.png\", cv2.IMREAD_GRAYSCALE)\n",
    "\n",
    "dom_med=cv2.GaussianBlur(dom, (5, 5), 0)\n",
    "dom_lap=cv2.Laplacian(dom_med, cv2.CV_32F)\n",
    "dom_cross = crossing(dom_lap, 90)\n",
    "\n",
    "\n",
    "fig, ax = plt.subplots(1, 2, figsize=(20, 10))\n",
    "\n",
    "ax[0].imshow(dom, cmap='gray')\n",
    "ax[0].axis('off')\n",
    "ax[0].set_title('Obraz wejściowy')\n",
    "\n",
    "ax[1].imshow(dom_cross, cmap='gray')\n",
    "ax[1].axis('off')\n",
    "ax[1].set_title('Krawędzie')"
   ],
   "outputs": [],
   "execution_count": null
  },
  {
   "cell_type": "markdown",
   "source": [
    "## Algorytm Canny'ego\n",
    "\n",
    "> Algorytm Canny'ego to często wykorzystywana metoda detekcji krawędzi.\n",
    "> Zaproponowana została w~1986r. przez Johna F. Cannego.\n",
    "> Przy jego projektowaniu założono trzy cele:\n",
    "> - niska liczba błędów - algorytm powinien znajdywać wszystkie krawędzie oraz generować jak najmniej fałszywych detekcji,\n",
    "> - punkty krawędziowe powinny być poprawnie lokalizowane - wykryte punkty powinny być jak najbardziej zbliżone do rzeczywistych,\n",
    "> - krawędzie o szerokości 1 piksela - algorytm powinien zwrócić jeden punkt dla każdej rzeczywistej krawędzi.\n",
    "\n",
    "Zaimplementuj pierwszą część algorytmu detekcji krawędzi Canny'ego:\n",
    "1. W pierwszym kroku obraz przefiltruj dwuwymiarowym filtrem Gaussa.\n",
    "2. Następnie oblicz gradient pionowy i poziomy ($g_x $ i $g_y$).\n",
    "Jedną z metod jest filtracja Sobela.\n",
    "3. Dalej oblicz amplitudę:\n",
    "$M(x,y)  = \\sqrt{g_x^2+g_y^2}$ oraz kąt:\n",
    "$\\alpha(x,y) = arctan(\\frac{g_y}{g_x})$.\n",
    "Do obliczenia kąta wykorzystaj funkcję `np.arctan2(x1, x2)`.\n",
    "Wynik jest w radianach.\n",
    "4. W kolejnym etapie wykonaj kwantyzację kątów gradientu.\n",
    "Kąty od $-180^\\circ$ do $180^\\circ$ można podzielić na 8 przedziałów:\n",
    "[$-22.5^\\circ, 22.5^\\circ$], [$22.5^\\circ, 67.5^\\circ$],\n",
    "[$67.5^\\circ, 112.5^\\circ$], [$112.5^\\circ, 157.5^\\circ$],\n",
    "[$157.5^\\circ, -157.5^\\circ$], [$-157.5^\\circ, -112.5^\\circ$],\n",
    "[$-112.5^\\circ, -67.5^\\circ$], [$-67.5^\\circ, -22.5^\\circ$].\n",
    "Przy czym należy rozpatrywać tylko 4 kierunki:\n",
    "    - pionowy ($d_1$),\n",
    "    - poziomy ($d_2$),\n",
    "    - skośny lewy ($d_3$),\n",
    "    - skośny prawy ($d_4$).\n",
    "5. Dalej przeprowadź eliminację pikseli, które nie mają wartości maksymalnej (ang. *nonmaximal suppresion*).\n",
    "Celem tej operacji jest redukcja szerokości krawędzi do rozmiaru 1 piksela.\n",
    "Algorytm przebiega następująco.\n",
    "W rozpatrywanym otoczeniu o rozmiarze $3 \\times 3$:\n",
    "    - określ do którego przedziału należy kierunek gradientu piksela centralnego ($d_1, d_2, d_3, d_4$).\n",
    "    - przeanalizuje sąsiadów leżących na tym kierunku.\n",
    "Jeśli choć jeden z nich ma amplitudę większą niż piksel centralny, to należy uznać, że nie jest lokalnym maksimum i do wyniku przypisać $g_N(x,y) = 0$.\n",
    "W przeciwnym przypadku $g_N(x,y) = M(x,y)$.\n",
    "Przez $g_N$ rozumiemy obraz detekcji lokalnych maksimów.\n",
    "Zaimplementuj funkcję `nonmax`.\n",
    "Pierwszym argementem jest macierz kierunków (po kwantyzacji).\n",
    "Drugim argumentem jest macierz amplitudy.\n",
    "6. Ostatnią operacją jest binaryzacja obrazu $g_N$.\n",
    "Stosuje się tutaj tzw. binaryzację z histerezą.\n",
    "Wykorzystuje się w niej dwa progi: $T_L$ i $T_H$, przy czym $T_L < T_H$.\n",
    "Canny zaproponował, aby stosunek progu wyższego do niższego był jak 3 lub 2 do 1.\n",
    "Rezultaty binaryzacji można opisać jako:<br>\n",
    "$g_{NH}(x,y) = g_N(x,y) \\geq TH $<br>\n",
    "$g_{NL}(x,y) = TH > g_N(x,y) \\geq TL $<br>\n",
    "Można powiedzieć, że na obrazie $g_{NH}$ są \"pewne\" krawędzie.\n",
    "Natomiast na $g_{NL}$ \"potencjalne\".\n",
    "7. Na jednym obrazie zaznacz piksele należące do obrazu $g_{NH}$ jako czerwone oraz należące do obrazu $g_{NL}$ jako niebieskie.\n",
    "Wyświetl obraz."
   ],
   "metadata": {
    "collapsed": false,
    "pycharm": {
     "name": "#%% md\n"
    }
   }
  },
  {
   "cell_type": "code",
   "source": [
    "def canny(image, th, tl):\n",
    "    y_size, x_size = image.shape\n",
    "\n",
    "    blurred = cv2.GaussianBlur(image, (3, 3), 1)\n",
    "\n",
    "    sobel_1=np.array([[-1,0,1],[-2,0,2],[-1,0,1]])\n",
    "    sobel_2=np.array([[-1,-2,-1],[0,0,0],[1,2,1]])\n",
    "    gradient_x=cv2.filter2D(blurred, -1, sobel_1)\n",
    "    gradient_y=cv2.filter2D(blurred, -1, sobel_2)\n",
    "\n",
    "    amplitude = np.sqrt(gradient_x**2 + gradient_y**2)\n",
    "\n",
    "    alfa=np.arctan2(gradient_y, gradient_x)\n",
    "    alfa = alfa*180./np.pi\n",
    "    alfa[alfa < 0] += 180\n",
    "    kierunek=np.zeros(image.shape)\n",
    "\n",
    "    for i in range(y_size):\n",
    "        for j in range(x_size):\n",
    "            if (0 <= alfa[i,j] < 22.5) or (157.5 <= alfa[i,j] <= 180):\n",
    "                kierunek[i,j]=1\n",
    "\n",
    "            elif 22.5 <= alfa[i,j] < 67.5:\n",
    "                kierunek[i,j]=2\n",
    "\n",
    "            elif 67.5 <= alfa[i,j] < 112.5:\n",
    "                kierunek[i,j]=3\n",
    "\n",
    "            elif 112.5 <= alfa[i,j] < 157.5:\n",
    "                kierunek[i,j]=4\n",
    "\n",
    "    g_n = nonmax(kierunek, amplitude)\n",
    "    g_nh=g_n>=th\n",
    "    g_nl= np.logical_and(th>g_n, g_n>=tl)\n",
    "    return g_nh,g_nl\n",
    "\n",
    "def nonmax(kierunek, amplitude):\n",
    "    y_size, x_size = kierunek.shape\n",
    "    g_n = np.zeros(kierunek.shape)\n",
    "\n",
    "    for i in range(1, y_size - 1):\n",
    "        for j in range(1, x_size - 1):\n",
    "            match kierunek[i, j]:\n",
    "                case 1:\n",
    "                    if amplitude[i, j - 1] > amplitude[i,j] or amplitude[i, j + 1]>amplitude[i,j]:\n",
    "                        g_n[i,j]=0\n",
    "                    else:\n",
    "                        g_n[i,j]=amplitude[i,j]\n",
    "                case 2:\n",
    "                    if amplitude[i + 1, j - 1]>amplitude[i,j] or amplitude[i - 1, j + 1]>amplitude[i,j]:\n",
    "                        g_n[i,j]=0\n",
    "                    else:\n",
    "                        g_n[i,j]=amplitude[i,j]\n",
    "                case 3:\n",
    "                    if amplitude[i + 1,j]>amplitude[i,j] or amplitude[i - 1,j]>amplitude[i,j]:\n",
    "                        g_n[i,j]=0\n",
    "                    else:\n",
    "                        g_n[i,j]=amplitude[i,j]\n",
    "                case 4:\n",
    "                    if amplitude[i - 1, j - 1]>amplitude[i,j] or amplitude[i + 1, j + 1]>amplitude[i,j]:\n",
    "                        g_n[i,j]=0\n",
    "                    else:\n",
    "                        g_n[i,j]=amplitude[i,j]\n",
    "    return g_n"
   ],
   "metadata": {
    "collapsed": false,
    "pycharm": {
     "name": "#%% Zadanie 2 - Canny\n"
    }
   },
   "outputs": [],
   "execution_count": null
  },
  {
   "metadata": {},
   "cell_type": "code",
   "source": [
    "g_nh,g_nl = canny(dom, tl=5, th=10)\n",
    "\n",
    "fig, ax = plt.subplots(1, 3, figsize=(30, 10))\n",
    "\n",
    "ax[0].imshow(dom, cmap='gray')\n",
    "ax[0].axis('off')\n",
    "ax[0].set_title('Obraz wejściowy')\n",
    "\n",
    "ax[1].imshow(g_nh, cmap='gray')\n",
    "ax[1].axis('off')\n",
    "ax[1].set_title('Krawędzie pewne')\n",
    "\n",
    "ax[2].imshow(g_nl, cmap='gray')\n",
    "ax[2].axis('off')\n",
    "ax[2].set_title('Krawędzie potencjalne')\n",
    "\n",
    "y_size, x_size = g_nh.shape\n",
    "polaczenie=np.zeros((y_size, x_size, 3)).astype(np.uint8)\n",
    "\n",
    "for i in range (0, y_size):\n",
    "    for j in range (0, x_size):\n",
    "        if g_nh[i,j]==1:\n",
    "            polaczenie[i,j]=[255, 0, 0]\n",
    "        if g_nl[i,j]==1:\n",
    "            polaczenie[i,j]=[0, 0, 255]\n",
    "\n",
    "fig, ax = plt.subplots()\n",
    "\n",
    "ax.imshow(polaczenie)\n",
    "ax.axis('off')\n",
    "ax.set_title('Krawędzie pewne i niepewne')"
   ],
   "outputs": [],
   "execution_count": null
  },
  {
   "cell_type": "markdown",
   "source": [
    "## Algorytm Canny'ego - OpenCV\n",
    "\n",
    "1. Wykonaj dektekcję krawędzi metodą Canny'ego wykorzystując funkcję `cv2.Canny`.\n",
    "    - Pierwszym argumentem funkcji jest obraz wejściowy.\n",
    "    - Drugim argumentem jest mniejszy próg.\n",
    "    - Trzecim argumentem jest większy próg.\n",
    "    - Czwarty argument to tablica, do której wpisany zostanie wynik.\n",
    "    Można zwrócić go przez wartość i podać wartość `None`.\n",
    "    - Piąty argument to rozmiar operatora Sobela (w naszym przypadku 3).\n",
    "    - Szósty argument to rodzaj używanej normy.\n",
    "    0 oznacza normę $L_1$, 1 oznacza normę $L_2$. Użyj $L_2$.\n",
    "2. Wynik wyświetl i porównaj z wykonaną częściową implementacją w poprzednim ćwiczeniu.\n",
    "Na czym polegają różnice?"
   ],
   "metadata": {
    "collapsed": false,
    "pycharm": {
     "name": "#%% md\n"
    }
   }
  },
  {
   "cell_type": "code",
   "source": [
    "img_can=cv2.Canny(dom, 5, 10, None, 3, 1)\n",
    "plt.imshow(img_can, 'gray')\n",
    "plt.axis('off')\n",
    "plt.show()"
   ],
   "metadata": {
    "collapsed": false,
    "pycharm": {
     "name": "#%% Zadanie 3 - Canny opencv\n"
    }
   },
   "outputs": [],
   "execution_count": null
  }
 ],
 "metadata": {
  "kernelspec": {
   "display_name": "Python 3",
   "language": "python",
   "name": "python3"
  },
  "language_info": {
   "codemirror_mode": {
    "name": "ipython",
    "version": 3
   },
   "file_extension": ".py",
   "mimetype": "text/x-python",
   "name": "python",
   "nbconvert_exporter": "python",
   "pygments_lexer": "ipython3",
   "version": "3.8.3"
  }
 },
 "nbformat": 4,
 "nbformat_minor": 4
}
