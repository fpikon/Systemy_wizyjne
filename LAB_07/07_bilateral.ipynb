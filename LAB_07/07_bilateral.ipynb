{
 "cells": [
  {
   "cell_type": "markdown",
   "metadata": {
    "pycharm": {
     "name": "#%% md\n"
    }
   },
   "source": [
    "# Filtracja bilateralna"
   ]
  },
  {
   "cell_type": "markdown",
   "metadata": {
    "collapsed": false,
    "pycharm": {
     "name": "#%% md\n"
    }
   },
   "source": [
    "## Konwolucja obrazu z filtrem o zadanych współczynnikach\n",
    "\n",
    "Splot (konwolucję) obrazu wejściowego $I$ z filtrem $\\psi$ dla ustalonego punktu obrazu $\\mathbf{x}$ można przedstawić następująco:\n",
    "\n",
    "\\begin{equation}\n",
    "\\hat{I}(\\mathbf{x}) = \\frac{1}{W_N}\\sum_{\\mathbf{p} \\in \\eta(\\mathbf{x})} \\psi(||\\mathbf{p}-\\mathbf{x}||)I(\\mathbf{p})\n",
    "\\tag{1}\n",
    "\\end{equation}\n",
    "\n",
    "gdzie:\n",
    "- $\\hat{I}$ jest obrazem wynikowym (przefiltrowanym),\n",
    "- $W_N = \\sum_y \\psi(y)$ jest parametrem normalizującym współczynniki filtra $\\psi$,\n",
    "- $||\\cdot||$ jest odległością między punktami obrazu $\\mathbf{x}$ i $\\mathbf{p}$ według ustalonej metryki (np. norma $L_2$). Uwaga, proszę pamiętać, że zarówno $\\mathbf{x}$, jak i $\\mathbf{p}$ to współrzędne przestrzenne,\n",
    "- $\\eta(\\mathbf{x})$ jest otoczeniem punktu $\\mathbf{x}$.\n",
    "\n",
    "Funkcja $\\psi$ decyduje o charakterze filtracji. Dla filtru Gaussowskiego:\n",
    "\n",
    "\\begin{equation}\n",
    "\\psi(y) = G_{\\delta_s}(y)\n",
    "\\tag{2}\n",
    "\\end{equation}\n",
    "\n",
    "gdzie: $G_{\\delta_s}(y)$ jest funkcją Gaussa z parametrem skali $\\delta_s$.\n",
    "\n",
    "Opisaną powyżej filtrację realizowaliśmy w ramach ćwiczenia \"Przetwarzanie wstępne. Filtracja kontekstowa.\""
   ]
  },
  {
   "cell_type": "markdown",
   "metadata": {
    "collapsed": false,
    "pycharm": {
     "name": "#%% md\n"
    }
   },
   "source": [
    "## Filtracja bilateralna\n",
    "\n",
    "Wadą klasycznego splotu jest brak adaptacji współczynników filtra do lokalnego otoczenia $\\eta(\\mathbf{x})$ filtrowanego punktu $\\mathbf{x}$.\n",
    "Oznacza to wykorzystanie tych samych współczynników filtra $\\psi$ niezależnie od tego czy otoczenie jest względnie jednorodne lub zawiera krawędzie obiektów (w tym przypadku dochodzi do \"rozmywania\" krawędzi).\n",
    "Filtracja bilateralna uwzględnia lokalne otoczenie filtrowanego punktu, w ten sposób, że parametry filtra zmieniają się w zależności od \"wyglądu\" otoczenia.\n",
    "\n",
    "\n",
    "Współczynniki filtra obliczane są na podstawie odległości filtrowanego punktu $\\mathbf{x}$ od każdego punktu otoczenia $\\mathbf{p}$ w dziedzinie przestrzennej obrazu (tak jak przy typowym filtrze np. Gaussa) oraz odległości punktów w przeciwdziedzinie obrazu (np. na podstawie różnicy w jasności pikseli dla obrazu w odcieniach szarości):\n",
    "\n",
    "\\begin{equation}\n",
    "\\hat{I}(\\mathbf{x}) = \\frac{1}{W_N}\\sum_{\\mathbf{p} \\in \\eta(\\mathbf{x})} \\psi(||\\mathbf{p}-\\mathbf{x}||) \\gamma(|I(\\mathbf{p}) - I(\\mathbf{x})|) I(\\mathbf{p})\n",
    "\\tag{3}\n",
    "\\end{equation}\n",
    "gdzie:\n",
    "- $W_N$ jest współczynnikiem normalizującym filtr,\n",
    "- $\\gamma$ jest funkcją odległości w przeciwdziedzinie obrazu, np. $\\gamma(y)=\\exp(-\\frac{y^2}{2\\delta_r^2})$\n",
    "- parametr $\\delta_r$ jest utożsamiany z poziomem szumu w obrazie i należy go dobrać w sposób empiryczny.\n",
    "\n",
    "Proszę chwilę zastanowić się nad powyższym równaniem, w szczególności nad funkcją $\\gamma$. Proszę wyznaczyć, jaka będzie wartość funkcji dla pikseli podobnych (różnica 0, 1, 2), a skrajnie różnych (255, 200).\n",
    "\n",
    "##  Realizacja ćwiczenia\n",
    "\n",
    "### Wczytanie danych\n",
    "\n",
    "1. Wczytaj dane z pliku *MR_data.mat*. W tym celu wykorzystaj funkcję `loadmat` z pakietu scipy:\n",
    "        from scipy.io import loadmat\n",
    "        mat = loadmat('MR_data.mat')\n",
    "\n",
    "2. Wczytany plik zawiera 5 obrazów: *I_noisefree*, *I_noisy1*, *I_noisy2*, *I_noisy3* oraz *I_noisy4*. Odczytać je można w następujący sposób:\n",
    "        Input = mat['I_noisy1']\n",
    "\n",
    "3. Wyświetl wybrany obraz z pliku *MR_data.mat*. Zagadka - co to za obrazowanie medyczne?"
   ]
  },
  {
   "cell_type": "code",
   "metadata": {
    "collapsed": false,
    "pycharm": {
     "name": "#%% Zadanie 1 - wyświetlanie\n"
    }
   },
   "source": [
    "from matplotlib import pyplot as plt\n",
    "import numpy as np\n",
    "from scipy.io import loadmat\n",
    "import math\n",
    "import os\n",
    "\n",
    "if not os.path.exists(\"MR_data.mat\") :\n",
    "    !wget https://raw.githubusercontent.com/vision-agh/poc_sw/master/07_Bilateral/MR_data.mat --no-check-certificate\n",
    "\n",
    "mat = loadmat(\"MR_data.mat\")\n",
    "\n",
    "names = [\"I_noisefree\", \"I_noisy1\", \"I_noisy2\",\"I_noisy3\",\"I_noisy4\"]\n",
    "\n",
    "for i in range(len(names)):\n",
    "    fig, ax = plt.subplots()\n",
    "    ax.imshow(mat[names[i]], cmap=\"gray\")\n",
    "    ax.axis('off')\n",
    "\n"
   ],
   "outputs": [],
   "execution_count": null
  },
  {
   "cell_type": "markdown",
   "metadata": {
    "collapsed": false,
    "pycharm": {
     "name": "#%% md\n"
    }
   },
   "source": [
    "### \"Klasyczna\" konwolucja\n",
    "\n",
    "1. Zdefiniuj parametry filtra Gaussowskiego: rozmiar okna i wariancję $\\delta_S$.\n",
    "2. Oblicz współczynniki filtra na podstawie zdefiniowanych parametrów (najprościej w ramach podwójnej pętli for).\n",
    "2. Sprawdź ich poprawność i zwizualizuj filtr (tak jak w ćwiczeniu pt. \"Przetwarzanie wstępne. Filtracja kontekstowa.\").\n",
    "3. Wykonaj kopię obrazu wejściowego: `IConv = Input.copy()`\n",
    "4. Wykonaj podwójną pętlę po obrazie. Pomiń ramkę, dla której nie jest zdefiniowany kontekst o wybranej wielkości.\n",
    "5. W każdej iteracji stwórz dwuwymiarową tablicę zawierającą aktualny kontekst.\n",
    "6. Napisz funkcję, która będzie obliczała nową wartość piksela.\n",
    "Argumentem tej funkcji są aktualnie przetwarzane okno i współczynniki filtra.\n",
    "7. Obliczoną wartość przypisz do odpowiedniego piksela kopii obrazu wejściowego.\n",
    "8. Wyświetl wynik filtracji.\n",
    "9. Porównaj wynik z obrazem oryginalnym."
   ]
  },
  {
   "cell_type": "code",
   "metadata": {
    "collapsed": false,
    "pycharm": {
     "name": "#%% Zadanie 2 - konwolucja\n"
    }
   },
   "source": [
    "def gaussian_convolution(image, window_size, variance):\n",
    "    image_out = image.copy()\n",
    "\n",
    "    y_size, x_size = image_out.shape\n",
    "\n",
    "    for i in range(window_size//2, y_size - window_size//2):\n",
    "        for j in range(window_size//2, x_size - window_size//2):\n",
    "            i1 = i - window_size//2\n",
    "            j1 = j - window_size//2\n",
    "            i2 = i + window_size//2 + window_size%2\n",
    "            j2 = j + window_size//2 + window_size%2\n",
    "\n",
    "            window = image[i1:i2, j1:j2]\n",
    "\n",
    "            image_out[i, j] = pixel_value_1(window, variance)\n",
    "\n",
    "    return image_out\n",
    "\n",
    "def pixel_value_1(window, variance):\n",
    "    val = 0\n",
    "    mask = np.zeros_like(window)\n",
    "    middle_y = window.shape[0]//2\n",
    "    middle_x = window.shape[1]//2\n",
    "    for k in range(window.shape[0]):\n",
    "        for l in range(window.shape[1]):\n",
    "            y = np.sqrt((middle_y-k)**2 + (middle_x-l)**2)\n",
    "            mask[k][l] = np.exp(-y**2/(2*variance))\n",
    "            val += window[k][l] * mask[k][l]\n",
    "    val = (1/mask.sum()) * val\n",
    "    return val\n",
    "\n",
    "window_size = 5\n",
    "variance = 1\n",
    "\n",
    "names = [\"I_noisefree\", \"I_noisy1\", \"I_noisy2\",\"I_noisy3\",\"I_noisy4\"]\n",
    "\n",
    "a = 6\n",
    "\n",
    "for i in range(len(names)):\n",
    "    I = mat[names[i]]\n",
    "\n",
    "    filtered = gaussian_convolution(I, window_size, variance)\n",
    "\n",
    "    fig, ax = plt.subplots(1, 2, figsize=(2*a, a))\n",
    "    ax[0].imshow(I, cmap=\"gray\")\n",
    "    ax[0].axis('off')\n",
    "    ax[0].set_title(\"Original\")\n",
    "\n",
    "    ax[1].imshow(filtered, cmap=\"gray\")\n",
    "    ax[1].axis('off')\n",
    "    ax[1].set_title(\"Filtered\")\n"
   ],
   "outputs": [],
   "execution_count": null
  },
  {
   "cell_type": "markdown",
   "metadata": {
    "collapsed": false,
    "pycharm": {
     "name": "#%% md\n"
    }
   },
   "source": [
    "### Filtracja bilateralna\n",
    "\n",
    "1. Zdefiniuj dodatkowy parametr: wariancję $\\delta_R$.\n",
    "3. Wykonaj kopię obrazu wejściowego: `IBilateral = Input.copy()`\n",
    "4. Wykonaj podwójną pętlę po obrazie. Pomiń ramkę, dla której nie jest zdefiniowany kontekst o wybranej wielkości.\n",
    "5. W każdej iteracji stwórz dwuwymiarową tablicę zawierającą aktualny kontekst.\n",
    "6. Napisz funkcję, która będzie obliczała nową wartość piksela.\n",
    "Argumentami funkcji są aktualnie przetwarzane okno, współczynniki filtra gaussowskiego (takie same jak wcześniej) i wariancja $\\delta_R$.\n",
    "7. Oblicz odległość w przeciwdziedzinie (dla wartości pikseli).\n",
    "8. Oblicz funkcję Gaussa dla obliczonych odległości z zadanym parametrem.\n",
    "9. Wykonaj normalizację obliczonych współczynników.\n",
    "10. Obliczoną wartość przypisz do odpowiedniego piksela kopii obrazu wejściowego.\n",
    "11. Wyświetl wynik filtracji.\n",
    "12. Porównaj wynik z obrazem oryginalnym."
   ]
  },
  {
   "cell_type": "code",
   "metadata": {
    "collapsed": false,
    "pycharm": {
     "name": "#%%\n"
    }
   },
   "source": [
    "def bilateral(image, window_size, variance_g, variance_r):\n",
    "    image_out = image.copy()\n",
    "\n",
    "    y_size, x_size = image_out.shape\n",
    "\n",
    "    for i in range(window_size//2, y_size - window_size//2):\n",
    "        for j in range(window_size//2, x_size - window_size//2):\n",
    "            i1 = i - window_size//2\n",
    "            j1 = j - window_size//2\n",
    "            i2 = i + window_size//2 + window_size%2\n",
    "            j2 = j + window_size//2 + window_size%2\n",
    "\n",
    "            window = image[i1:i2, j1:j2]\n",
    "\n",
    "            image_out[i, j] = pixel_value_2(window, variance_g, variance_r)\n",
    "\n",
    "    return image_out\n",
    "\n",
    "def pixel_value_2(window, variance_g, variance_r):\n",
    "    val = 0\n",
    "    middle_y = window.shape[0]//2\n",
    "    middle_x = window.shape[1]//2\n",
    "    mask = np.zeros_like(window)\n",
    "    for k in range(window.shape[0]):\n",
    "        for l in range(window.shape[1]):\n",
    "            y = np.sqrt((middle_y-k)**2 + (middle_x-l)**2)\n",
    "            gauss = np.exp(-y**2/(2*variance_g))\n",
    "\n",
    "            diff = abs(np.int32(window[k][l]) - np.int32(window[middle_y][middle_x]))\n",
    "            mask[k][l] = gauss * gamma(diff, variance_r)\n",
    "\n",
    "            val += window[k][l] * mask[k][l]\n",
    "    val = (1/mask.sum()) * val\n",
    "    return val\n",
    "\n",
    "def gamma(y, variance_r):\n",
    "    y = np.float64(y)\n",
    "    return np.exp(-(y**2)/(2*(variance_r**2)))\n",
    "\n",
    "window_size = 5\n",
    "variance = 1\n",
    "variance_r = 50\n",
    "\n",
    "names = [\"I_noisefree\", \"I_noisy1\", \"I_noisy2\",\"I_noisy3\",\"I_noisy4\"]\n",
    "\n",
    "a = 6\n",
    "\n",
    "for i in range(len(names)):\n",
    "    I = mat[names[i]]\n",
    "\n",
    "    filtered = bilateral(I, window_size, variance, variance_r)\n",
    "\n",
    "    fig, ax = plt.subplots(1, 2, figsize=(2*a, a))\n",
    "    ax[0].imshow(I, cmap=\"gray\")\n",
    "    ax[0].axis('off')\n",
    "    ax[0].set_title(\"Original\")\n",
    "\n",
    "    ax[1].imshow(filtered, cmap=\"gray\")\n",
    "    ax[1].axis('off')\n",
    "    ax[1].set_title(\"Filtered\")\n"
   ],
   "outputs": [],
   "execution_count": null
  }
 ],
 "metadata": {
  "kernelspec": {
   "display_name": "Python 3",
   "language": "python",
   "name": "python3"
  },
  "language_info": {
   "codemirror_mode": {
    "name": "ipython",
    "version": 3
   },
   "file_extension": ".py",
   "mimetype": "text/x-python",
   "name": "python",
   "nbconvert_exporter": "python",
   "pygments_lexer": "ipython3",
   "version": "3.8.3"
  }
 },
 "nbformat": 4,
 "nbformat_minor": 4
}
