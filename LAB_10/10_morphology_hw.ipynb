{
 "cells": [
  {
   "cell_type": "markdown",
   "metadata": {},
   "source": [
    "## Zadanie domowe: morfologiczna gra w życie – John Conway\n",
    "\n",
    "### Wykorzystanie operacji LUT w przekształceniu trafi, nie trafi\n",
    "  - Szybszą metodą wykonania transformacji trafi, nie trafi może być operacja LUT.\n",
    "  - Technika polega na zakodowaniu wyników wszystkich interesujących  konfiguracji, a następnie podczas przetwarzania wykorzystania operacji LUT.\n",
    "  - Dla otoczenia 3x3 możliwe jest 512 różnych konfiguracji.\n",
    "  - Aby praktycznie zrealizować operacje, każdej konfiguracji należy nadać unikalny indeks. Jedną z możliwości jest pomnożenie elementu strukturalnego przez macierz (mnożenie odpowiednich elementów):\n",
    "  ```\n",
    "  [[1, 8,  64],\n",
    "   [ 2, 16, 128],\n",
    "   [ 4, 32, 256]]\n",
    "  ```\n",
    "  Przykładowo elementowi:\n",
    "  ```\n",
    "  [[1, 1, 0],\n",
    "   [ 1, 0, 1],\n",
    "   [ 1, 0, 1]]\n",
    "  ```\n",
    "  odpowiada liczba: 1(1) + 2(1) + 4(1) + 8(1) + 128(1) + 256(1) = 399.\n",
    "  \n",
    "### Przykład działania metody – detekcja punktów końcowych na obrazie.\n",
    "  - założenie: punkt końcowy to punkt, który ma dokładnie jednego sąsiada,\n",
    "  - zdefiniuj funkcję, która jako argument pobiera otoczenie, a zwraca 0 lub 1 w zależności od tego, czy rozpatrywany punkt jest końcowy np. dla sąsiedztwa 3×3 punkt będzie końcowy, jeżeli jest zapalony i ma tylko jednego sąsiada (czyli suma pikseli jest równa 2).\n",
    "  - wygeneruj przekodowanie LUT.\n",
    "  - wczytaj obraz szkielet.bmp (należy go przekształcić, aby uzyskać dwuwymiarową tablicę o wartościach 0-1). Wykorzystując wygenerowane przekodowanie LUT wykonaj detekcję zakończeń. Wyświetl obraz oryginalny i po przekodowaniu LUT.\n",
    "\n",
    "### Gra w życie\n",
    "\n",
    "Reguły gry w życie:\n",
    "  - każdy piksel biały, który ma dwóch lub trzech sąsiadów (białych) przeżywa,\n",
    "  - każdy piksel biały, który ma 0,1 lub więcej niż trzech sąsiadów (białych) nie przeżywa (głód lub przeludnienie),\n",
    "  - jeżeli jakieś pole (czarne) sąsiaduje dokładnie z trzema pikselami białymi, to na tym polu ,,rodzi'' się nowy piksel biały.\n",
    "\n",
    "Zadanie:\n",
    "  - za pomocą mechanizmu LUT (opisanego wcześniej) należy zaimplementować morfologiczną gre w życie,\n",
    "  - najważniejszym elementem jest funkcja opisująca reguły gry,\n",
    "  - symulacje należny przeprowadzić dla plansz dostarczonych w pliku gra.py,\n",
    "  - dobrze jest wykonać kilka iteracji – zobaczyć jak zmienia się kształt,\n",
    "  - inne ciekawe kształty do znalezienia w internecie.\n"
   ]
  },
  {
   "cell_type": "code",
   "metadata": {
    "pycharm": {
     "name": "#%%\n"
    }
   },
   "source": [
    "import matplotlib.pyplot as plt\n",
    "import cv2\n",
    "import numpy as np\n",
    "import os\n",
    "\n",
    "if not os.path.exists(\"gra.py\") :\n",
    "    !wget https://raw.githubusercontent.com/vision-agh/poc_sw/master/10_Morphology/gra.py --no-check-certificate\n",
    "\n",
    "def apply_lut(image, lut):\n",
    "    padded = np.pad(image, pad_width=1, mode='constant')\n",
    "    output = np.zeros_like(image)\n",
    "\n",
    "    weights = np.array([[1, 8, 64],\n",
    "                        [2, 16, 128],\n",
    "                        [4, 32, 256]])\n",
    "\n",
    "    for i in range(image.shape[0]):\n",
    "        for j in range(image.shape[1]):\n",
    "            window = padded[i:i+3, j:j+3]\n",
    "            idx = np.sum(window * weights)\n",
    "            output[i, j] = lut[idx]\n",
    "    return output\n",
    "\n",
    "def game_of_life_rule(neighborhood):\n",
    "    center = neighborhood[1, 1]\n",
    "    neighbors = np.sum(neighborhood) - center\n",
    "    if center == 1:\n",
    "        return 1 if neighbors in (2, 3) else 0\n",
    "    else:\n",
    "        return 1 if neighbors == 3 else 0\n",
    "\n",
    "def generate_life_lut():\n",
    "    lut = np.zeros(512, dtype=np.uint8)\n",
    "    for i in range(512):\n",
    "        binary = [(i >> bit) & 1 for bit in range(9)]\n",
    "        neighborhood = np.array(binary, dtype=np.uint8).reshape((3, 3))\n",
    "        lut[i] = game_of_life_rule(neighborhood)\n",
    "    return lut\n",
    "\n",
    "def simulate_life(binary, iterations=1):\n",
    "    lut = generate_life_lut()\n",
    "    current = binary.copy()\n",
    "    for _ in range(iterations):\n",
    "        current = apply_lut(current, lut)\n",
    "    return current"
   ],
   "outputs": [],
   "execution_count": null
  },
  {
   "metadata": {},
   "cell_type": "code",
   "source": [
    "from gra import *\n",
    "\n",
    "fig, ax = plt.subplots()\n",
    "ax.imshow(plansza1, cmap='gray')\n",
    "ax.axis(\"off\")\n",
    "\n",
    "for i in range(8):\n",
    "    plansza1 = simulate_life(plansza1, 1)\n",
    "\n",
    "    fig, ax = plt.subplots()\n",
    "    ax.imshow(plansza1, cmap='gray')\n",
    "    ax.axis(\"off\")"
   ],
   "outputs": [],
   "execution_count": null
  },
  {
   "metadata": {},
   "cell_type": "code",
   "source": [
    "from gra import *\n",
    "\n",
    "fig, ax = plt.subplots()\n",
    "ax.imshow(plansza2, cmap='gray')\n",
    "ax.axis(\"off\")\n",
    "\n",
    "for _ in range(7):\n",
    "    fig, ax = plt.subplots(1, 5)\n",
    "    for i in range(5):\n",
    "        plansza2 = simulate_life(plansza2, 1)\n",
    "\n",
    "        ax[i].imshow(plansza2, cmap='gray')\n",
    "        ax[i].axis(\"off\")"
   ],
   "outputs": [],
   "execution_count": null
  }
 ],
 "metadata": {
  "celltoolbar": "Raw Cell Format",
  "kernelspec": {
   "display_name": "Python 3",
   "language": "python",
   "name": "python3"
  },
  "language_info": {
   "codemirror_mode": {
    "name": "ipython",
    "version": 3
   },
   "file_extension": ".py",
   "mimetype": "text/x-python",
   "name": "python",
   "nbconvert_exporter": "python",
   "pygments_lexer": "ipython3",
   "version": "3.9.0"
  }
 },
 "nbformat": 4,
 "nbformat_minor": 4
}
