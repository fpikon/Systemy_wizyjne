{
 "cells": [
  {
   "cell_type": "markdown",
   "source": [
    "# Zadanie domowe\n",
    "\n",
    "W przypadku obrazów w odcieniach szarości pojedynczy piksel z zakresu [0; 255] reprezentowany jest jako 8-bitowa liczba bez znaku.\n",
    "Pewnym rozszerzeniem analizy sposobu reprezentacji obrazu może być następujący eksperyment.\n",
    "Załóżmy, że z każdego z 8 bitów możemy stworzyć pojedynczy obraz binarny (ang. _bit-plane slicing_).\n",
    "Dla obrazka _100zloty.jpg_ (https://raw.githubusercontent.com/vision-agh/poc_sw/master/02_Point/100zloty.jpg) stwórz 8 obrazów, z których każdy powinien zawierać jedną płaszczyznę bitową.\n",
    "Podpowiedź $-$ warto sprawdzić, jak realizuje się bitowe operacje logiczne.\n",
    "Zastosowanie takiej dekompozycji obrazu pozwala na analizę ,,ważności'' poszczególnych bitów.\n",
    "Jest to użyteczne w kwantyzacji, ale także w kompresji.\n",
    "\n",
    "W drugim etapie zadania proszę spróbować odtworzyć obraz oryginalny z mniejszej liczby obrazów binarnych.\n",
    "Warto zacząć od dwóch najbardziej znaczących bitów, a później dodawać kolejne.\n",
    "Należy utworzyć co najmniej trzy wersje zrekonstruowanych obrazów.\n",
    "Podpowiedź $-$ rekonstrukcja obrazu to mnożenie przez odpowiednią potęgę liczby 2 (przesunięcie bitowe) oraz dodawanie."
   ],
   "metadata": {
    "collapsed": false
   }
  },
  {
   "metadata": {},
   "cell_type": "code",
   "source": [
    "import cv2\n",
    "import numpy as np\n",
    "import matplotlib.pyplot as plt\n",
    "import os\n",
    "\n",
    "if not os.path.exists(\"100zloty.jpg\"):\n",
    "    !wget https://raw.githubusercontent.com/vision-agh/poc_sw/master/02_Point/100zloty.jpg\n",
    "\n",
    "sto_zloty = cv2.imread(\"100zloty.jpg\").astype(\"uint8\")\n",
    "\n",
    "plt.imshow(sto_zloty)\n",
    "plt.xticks([]), plt.yticks([])\n",
    "plt.show()\n",
    "\n",
    "bit_planes = []\n",
    "fig, ax = plt.subplots(2, 4, figsize=(12, 4))\n",
    "for i in range(8):\n",
    "    bit_plane = (sto_zloty >> i) & 1 # przesunięcie o i bitów i wyciągnięcie najmłodszego\n",
    "    bit_plane = bit_plane.astype(\"uint8\")\n",
    "    bit_planes.append(bit_plane)\n",
    "    bit_plane = bit_plane * 255\n",
    "\n",
    "    ax[i//4][i%4].imshow(bit_plane)\n",
    "    ax[i//4][i%4].set_title(f\"Bit plane {i+1}\")\n",
    "    ax[i//4][i%4].axis(\"off\")"
   ],
   "outputs": [],
   "execution_count": null
  },
  {
   "metadata": {},
   "cell_type": "code",
   "source": [
    "reconstruction_numbers = [2, 4, 6, 8]\n",
    "\n",
    "for i in reconstruction_numbers:\n",
    "    reconstructed = np.zeros_like(sto_zloty)\n",
    "    for j in reversed(range(8-i, 8)):\n",
    "        reconstructed += (bit_planes[j] << j)\n",
    "\n",
    "    fig, ax = plt.subplots()\n",
    "    ax.imshow(reconstructed)\n",
    "    ax.axis(\"off\")\n",
    "    ax.set_title(f\"Rekonstrukcja z wykorzystaniem {i} bitów\")"
   ],
   "outputs": [],
   "execution_count": null
  }
 ],
 "metadata": {
  "kernelspec": {
   "display_name": "Python 3",
   "language": "python",
   "name": "python3"
  },
  "language_info": {
   "codemirror_mode": {
    "name": "ipython",
    "version": 2
   },
   "file_extension": ".py",
   "mimetype": "text/x-python",
   "name": "python",
   "nbconvert_exporter": "python",
   "pygments_lexer": "ipython2",
   "version": "2.7.6"
  }
 },
 "nbformat": 4,
 "nbformat_minor": 0
}
